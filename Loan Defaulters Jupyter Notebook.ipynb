{
 "cells": [
  {
   "cell_type": "code",
   "execution_count": 1,
   "metadata": {},
   "outputs": [],
   "source": [
    "%matplotlib inline\n",
    "import os\n",
    "import pandas as pd\n",
    "import matplotlib.pyplot as plt\n",
    "import numpy as np\n",
    "import math\n",
    "pd.set_option('display.max_columns', None)\n",
    "pd.set_option('display.max_rows', None)"
   ]
  },
  {
   "cell_type": "code",
   "execution_count": 2,
   "metadata": {},
   "outputs": [
    {
     "data": {
      "text/plain": [
       "(855969, 73)"
      ]
     },
     "execution_count": 2,
     "metadata": {},
     "output_type": "execute_result"
    }
   ],
   "source": [
    "data = pd.read_csv(\"E:\\Imarticus\\Group Project\\XYZCorp_LendingData.txt\", \n",
    "                   encoding = 'utf-8', sep = '\\t', low_memory=False)\n",
    "\n",
    "data.shape"
   ]
  },
  {
   "cell_type": "code",
   "execution_count": 3,
   "metadata": {},
   "outputs": [
    {
     "data": {
      "text/plain": [
       "dti_joint                      0.999486\n",
       "verification_status_joint      0.999484\n",
       "annual_inc_joint               0.999484\n",
       "il_util                        0.986438\n",
       "mths_since_rcnt_il             0.984890\n",
       "total_bal_il                   0.984476\n",
       "inq_last_12m                   0.984476\n",
       "open_acc_6m                    0.984476\n",
       "open_il_6m                     0.984476\n",
       "open_il_24m                    0.984476\n",
       "open_il_12m                    0.984476\n",
       "open_rv_12m                    0.984476\n",
       "open_rv_24m                    0.984476\n",
       "max_bal_bc                     0.984476\n",
       "all_util                       0.984476\n",
       "inq_fi                         0.984476\n",
       "total_cu_tl                    0.984476\n",
       "desc                           0.857691\n",
       "mths_since_last_record         0.846742\n",
       "mths_since_last_major_derog    0.750997\n",
       "dtype: float64"
      ]
     },
     "execution_count": 3,
     "metadata": {},
     "output_type": "execute_result"
    }
   ],
   "source": [
    "var_null_pc = data.isnull().sum(axis=0).sort_values( ascending=False)/float(len(data) )\n",
    "var_null_pc[ var_null_pc > 0.75 ]"
   ]
  },
  {
   "cell_type": "code",
   "execution_count": 4,
   "metadata": {},
   "outputs": [],
   "source": [
    "data.drop( var_null_pc[ var_null_pc > 0.75 ].index, axis = 1, inplace = True ) \n",
    "data.dropna( axis = 0, thresh = 30, inplace = True )"
   ]
  },
  {
   "cell_type": "code",
   "execution_count": 25,
   "metadata": {},
   "outputs": [],
   "source": [
    "#One of the best approach is to save specific columns or values in one variable and we can then make operations on that variable\n",
    "#Operations might be removing those columns, make them categorical etc etc..\n",
    "\n",
    "vars_to_be_removed = ['policy_code', 'pymnt_plan', 'id', 'member_id', 'application_type', \n",
    "                      'acc_now_delinq','emp_title', 'zip_code','title']\n",
    "\n",
    "data.drop( vars_to_be_removed , axis = 1, inplace = True )"
   ]
  },
  {
   "cell_type": "code",
   "execution_count": null,
   "metadata": {},
   "outputs": [],
   "source": [
    "data['term'] = data['term'].str.split(' ').str[1]\n",
    "\n",
    "# extract numbers from emp_length and fill missing values with the median\n",
    "data['emp_length'] = data['emp_length'].str.extract('(\\d+)').astype(float)\n",
    "data['emp_length'] = data['emp_length'].fillna(data.emp_length.median())\n",
    "\n",
    "col_dates = data.dtypes[data.dtypes == 'datetime64[ns]'].index\n",
    "for d in col_dates:\n",
    "    data[d] = data[d].dt.to_period('M')"
   ]
  },
  {
   "cell_type": "code",
   "execution_count": 28,
   "metadata": {},
   "outputs": [],
   "source": [
    "#While building models on banking data, we MUST follow(research) the description of the data provided by the bank or client.\n",
    "#Not only bank data, data with any domain, we must do some research like below, so that we can make special modifications with\n",
    "#that data.\n",
    "\n",
    "data['amt_difference'] = 'eq'\n",
    "#created new column named as 'amt-difference and filled the default values as eq'\n",
    "\n",
    "data.loc[ ( data['funded_amnt'] - data['funded_amnt_inv']) > 0, 'amt_difference' ] = 'less'\n",
    "#data.loc = replace all values with \"less\", where difference between 'funded_amnt' and 'funded_amnt_inv' is greater than 0\n",
    "#We are using two column values to put it in single column, so that we can easily categories them.\n",
    "\n",
    "# Make categorical\n",
    "\n",
    "data[ 'delinq_2yrs_cat' ] = 'no'\n",
    "data.loc[ data [ 'delinq_2yrs' ] > 0, 'delinq_2yrs_cat' ] = 'yes'\n",
    "\n",
    "data[ 'inq_last_6mths_cat' ] = 'no'\n",
    "data.loc[ data['inq_last_6mths' ] > 0, 'inq_last_6mths_cat' ] = 'yes'\n",
    "\n",
    "data[ 'pub_rec_cat' ] = 'no'\n",
    "data.loc[ data['pub_rec'] > 0,'pub_rec_cat' ] = 'yes'\n",
    "\n",
    "# Create new metric\n",
    "data['acc_ratio'] = data.open_acc / data.total_acc"
   ]
  },
  {
   "cell_type": "code",
   "execution_count": 29,
   "metadata": {},
   "outputs": [],
   "source": [
    "features = [\n",
    "            'loan_amnt', 'amt_difference', 'term', \n",
    "            'installment', 'grade','emp_length',\n",
    "            'home_ownership', 'annual_inc','verification_status',\n",
    "            'purpose', 'dti', 'delinq_2yrs_cat', 'inq_last_6mths_cat', \n",
    "            'open_acc', 'pub_rec', 'pub_rec_cat', 'acc_ratio', 'initial_list_status',\n",
    "            'issue_d','default_ind'\n",
    "           ]\n",
    "\n",
    "data = data[features]\n",
    "\n",
    "# Drop any residual missing values\n",
    "data.dropna( axis=0, how = 'any', inplace = True )"
   ]
  },
  {
   "cell_type": "code",
   "execution_count": 30,
   "metadata": {},
   "outputs": [],
   "source": [
    "oot_test_months = ['Jun-2015', 'Jul-2015', 'Aug-2015', 'Sep-2015', 'Oct-2015', 'Nov-2015', 'Dec-2015']\n",
    "\n",
    "train = data.loc [ -data.issue_d.isin(oot_test_months) ]\n",
    "oot_test = data.loc [ data.issue_d.isin(oot_test_months) ]"
   ]
  },
  {
   "cell_type": "code",
   "execution_count": 31,
   "metadata": {},
   "outputs": [],
   "source": [
    "#Selecting Categorical columns so that we can easily use them afterwards.\n",
    "categorical_features = ['term','amt_difference', 'grade', 'home_ownership', 'verification_status', \n",
    "                            'purpose', 'delinq_2yrs_cat', 'inq_last_6mths_cat', 'initial_list_status', 'pub_rec_cat']"
   ]
  },
  {
   "cell_type": "code",
   "execution_count": 32,
   "metadata": {},
   "outputs": [
    {
     "data": {
      "text/html": [
       "<div>\n",
       "<style scoped>\n",
       "    .dataframe tbody tr th:only-of-type {\n",
       "        vertical-align: middle;\n",
       "    }\n",
       "\n",
       "    .dataframe tbody tr th {\n",
       "        vertical-align: top;\n",
       "    }\n",
       "\n",
       "    .dataframe thead th {\n",
       "        text-align: right;\n",
       "    }\n",
       "</style>\n",
       "<table border=\"1\" class=\"dataframe\">\n",
       "  <thead>\n",
       "    <tr style=\"text-align: right;\">\n",
       "      <th></th>\n",
       "      <th>loan_amnt</th>\n",
       "      <th>amt_difference</th>\n",
       "      <th>term</th>\n",
       "      <th>installment</th>\n",
       "      <th>grade</th>\n",
       "      <th>emp_length</th>\n",
       "      <th>home_ownership</th>\n",
       "      <th>annual_inc</th>\n",
       "      <th>verification_status</th>\n",
       "      <th>purpose</th>\n",
       "      <th>dti</th>\n",
       "      <th>delinq_2yrs_cat</th>\n",
       "      <th>inq_last_6mths_cat</th>\n",
       "      <th>open_acc</th>\n",
       "      <th>pub_rec</th>\n",
       "      <th>pub_rec_cat</th>\n",
       "      <th>acc_ratio</th>\n",
       "      <th>initial_list_status</th>\n",
       "    </tr>\n",
       "  </thead>\n",
       "  <tbody>\n",
       "  </tbody>\n",
       "</table>\n",
       "</div>"
      ],
      "text/plain": [
       "Empty DataFrame\n",
       "Columns: [loan_amnt, amt_difference, term, installment, grade, emp_length, home_ownership, annual_inc, verification_status, purpose, dti, delinq_2yrs_cat, inq_last_6mths_cat, open_acc, pub_rec, pub_rec_cat, acc_ratio, initial_list_status]\n",
       "Index: []"
      ]
     },
     "execution_count": 32,
     "metadata": {},
     "output_type": "execute_result"
    }
   ],
   "source": [
    "train[train.columns[:-2]].head()\n",
    "#train.collumns[:] = Will give you only list of columns\n",
    "#train.collumns[:-2] = Will give you only list of columns, excluuding last two  columns\n",
    "#train[train.collumns[:]] or train[train.collumns[:]].head()  = Will give you every value from  the  column"
   ]
  },
  {
   "cell_type": "markdown",
   "metadata": {},
   "source": [
    "# Below code is for one Hot encoding, which is used to make the columns categorical"
   ]
  },
  {
   "cell_type": "code",
   "execution_count": 33,
   "metadata": {},
   "outputs": [
    {
     "name": "stdout",
     "output_type": "stream",
     "text": [
      "(0, 8) (0, 8)\n"
     ]
    }
   ],
   "source": [
    "#Using the function is straightforward - you specify which columns you want encoded and get a dataframe with original columns \n",
    "#replaced with one-hot encodings.\n",
    "#syntax used :-  df_with_dummies = pd.get_dummies( df, columns = cols_to_transform )\n",
    "\n",
    "X_model_train = pd.get_dummies(train[train.columns[:-2]], columns=categorical_features).astype(float)\n",
    "y_model_train = train['default_ind']\n",
    "\n",
    "X_oot_test = pd.get_dummies(oot_test[oot_test.columns[:-2]], columns=categorical_features).astype(float)\n",
    "y_oot_test = oot_test['default_ind']\n",
    "\n",
    "print(X_model_train.shape, X_oot_test.shape)"
   ]
  },
  {
   "cell_type": "code",
   "execution_count": 34,
   "metadata": {},
   "outputs": [
    {
     "data": {
      "text/html": [
       "<div>\n",
       "<style scoped>\n",
       "    .dataframe tbody tr th:only-of-type {\n",
       "        vertical-align: middle;\n",
       "    }\n",
       "\n",
       "    .dataframe tbody tr th {\n",
       "        vertical-align: top;\n",
       "    }\n",
       "\n",
       "    .dataframe thead th {\n",
       "        text-align: right;\n",
       "    }\n",
       "</style>\n",
       "<table border=\"1\" class=\"dataframe\">\n",
       "  <thead>\n",
       "    <tr style=\"text-align: right;\">\n",
       "      <th></th>\n",
       "      <th>loan_amnt</th>\n",
       "      <th>installment</th>\n",
       "      <th>emp_length</th>\n",
       "      <th>annual_inc</th>\n",
       "      <th>dti</th>\n",
       "      <th>open_acc</th>\n",
       "      <th>pub_rec</th>\n",
       "      <th>acc_ratio</th>\n",
       "    </tr>\n",
       "  </thead>\n",
       "  <tbody>\n",
       "  </tbody>\n",
       "</table>\n",
       "</div>"
      ],
      "text/plain": [
       "Empty DataFrame\n",
       "Columns: [loan_amnt, installment, emp_length, annual_inc, dti, open_acc, pub_rec, acc_ratio]\n",
       "Index: []"
      ]
     },
     "execution_count": 34,
     "metadata": {},
     "output_type": "execute_result"
    }
   ],
   "source": [
    "X_model_train.head()"
   ]
  },
  {
   "cell_type": "code",
   "execution_count": 35,
   "metadata": {},
   "outputs": [
    {
     "data": {
      "text/html": [
       "<div>\n",
       "<style scoped>\n",
       "    .dataframe tbody tr th:only-of-type {\n",
       "        vertical-align: middle;\n",
       "    }\n",
       "\n",
       "    .dataframe tbody tr th {\n",
       "        vertical-align: top;\n",
       "    }\n",
       "\n",
       "    .dataframe thead th {\n",
       "        text-align: right;\n",
       "    }\n",
       "</style>\n",
       "<table border=\"1\" class=\"dataframe\">\n",
       "  <thead>\n",
       "    <tr style=\"text-align: right;\">\n",
       "      <th></th>\n",
       "      <th>loan_amnt</th>\n",
       "      <th>installment</th>\n",
       "      <th>emp_length</th>\n",
       "      <th>annual_inc</th>\n",
       "      <th>dti</th>\n",
       "      <th>open_acc</th>\n",
       "      <th>pub_rec</th>\n",
       "      <th>acc_ratio</th>\n",
       "    </tr>\n",
       "  </thead>\n",
       "  <tbody>\n",
       "  </tbody>\n",
       "</table>\n",
       "</div>"
      ],
      "text/plain": [
       "Empty DataFrame\n",
       "Columns: [loan_amnt, installment, emp_length, annual_inc, dti, open_acc, pub_rec, acc_ratio]\n",
       "Index: []"
      ]
     },
     "execution_count": 35,
     "metadata": {},
     "output_type": "execute_result"
    }
   ],
   "source": [
    "X_oot_test.head()"
   ]
  },
  {
   "cell_type": "code",
   "execution_count": null,
   "metadata": {},
   "outputs": [],
   "source": [
    "vars_not_in_oot_test = ['home_ownership_OWN','home_ownership_RENT','purpose_educational']\n",
    "\n",
    "X_model_train.drop( vars_not_in_oot_test , axis = 1, inplace = True )\n",
    "\n",
    "print(X_model_train.shape)"
   ]
  },
  {
   "cell_type": "code",
   "execution_count": 17,
   "metadata": {},
   "outputs": [
    {
     "name": "stderr",
     "output_type": "stream",
     "text": [
      "C:\\Users\\Asus\\Anaconda3\\lib\\site-packages\\h5py\\__init__.py:36: FutureWarning: Conversion of the second argument of issubdtype from `float` to `np.floating` is deprecated. In future, it will be treated as `np.float64 == np.dtype(float).type`.\n",
      "  from ._conv import register_converters as _register_converters\n",
      "Using TensorFlow backend.\n",
      "C:\\Users\\Asus\\Anaconda3\\lib\\site-packages\\tensorflow\\python\\framework\\dtypes.py:516: FutureWarning: Passing (type, 1) or '1type' as a synonym of type is deprecated; in a future version of numpy, it will be understood as (type, (1,)) / '(1,)type'.\n",
      "  _np_qint8 = np.dtype([(\"qint8\", np.int8, 1)])\n",
      "C:\\Users\\Asus\\Anaconda3\\lib\\site-packages\\tensorflow\\python\\framework\\dtypes.py:517: FutureWarning: Passing (type, 1) or '1type' as a synonym of type is deprecated; in a future version of numpy, it will be understood as (type, (1,)) / '(1,)type'.\n",
      "  _np_quint8 = np.dtype([(\"quint8\", np.uint8, 1)])\n",
      "C:\\Users\\Asus\\Anaconda3\\lib\\site-packages\\tensorflow\\python\\framework\\dtypes.py:518: FutureWarning: Passing (type, 1) or '1type' as a synonym of type is deprecated; in a future version of numpy, it will be understood as (type, (1,)) / '(1,)type'.\n",
      "  _np_qint16 = np.dtype([(\"qint16\", np.int16, 1)])\n",
      "C:\\Users\\Asus\\Anaconda3\\lib\\site-packages\\tensorflow\\python\\framework\\dtypes.py:519: FutureWarning: Passing (type, 1) or '1type' as a synonym of type is deprecated; in a future version of numpy, it will be understood as (type, (1,)) / '(1,)type'.\n",
      "  _np_quint16 = np.dtype([(\"quint16\", np.uint16, 1)])\n",
      "C:\\Users\\Asus\\Anaconda3\\lib\\site-packages\\tensorflow\\python\\framework\\dtypes.py:520: FutureWarning: Passing (type, 1) or '1type' as a synonym of type is deprecated; in a future version of numpy, it will be understood as (type, (1,)) / '(1,)type'.\n",
      "  _np_qint32 = np.dtype([(\"qint32\", np.int32, 1)])\n",
      "C:\\Users\\Asus\\Anaconda3\\lib\\site-packages\\tensorflow\\python\\framework\\dtypes.py:525: FutureWarning: Passing (type, 1) or '1type' as a synonym of type is deprecated; in a future version of numpy, it will be understood as (type, (1,)) / '(1,)type'.\n",
      "  np_resource = np.dtype([(\"resource\", np.ubyte, 1)])\n",
      "C:\\Users\\Asus\\Anaconda3\\lib\\site-packages\\tensorboard\\compat\\tensorflow_stub\\dtypes.py:541: FutureWarning: Passing (type, 1) or '1type' as a synonym of type is deprecated; in a future version of numpy, it will be understood as (type, (1,)) / '(1,)type'.\n",
      "  _np_qint8 = np.dtype([(\"qint8\", np.int8, 1)])\n",
      "C:\\Users\\Asus\\Anaconda3\\lib\\site-packages\\tensorboard\\compat\\tensorflow_stub\\dtypes.py:542: FutureWarning: Passing (type, 1) or '1type' as a synonym of type is deprecated; in a future version of numpy, it will be understood as (type, (1,)) / '(1,)type'.\n",
      "  _np_quint8 = np.dtype([(\"quint8\", np.uint8, 1)])\n",
      "C:\\Users\\Asus\\Anaconda3\\lib\\site-packages\\tensorboard\\compat\\tensorflow_stub\\dtypes.py:543: FutureWarning: Passing (type, 1) or '1type' as a synonym of type is deprecated; in a future version of numpy, it will be understood as (type, (1,)) / '(1,)type'.\n",
      "  _np_qint16 = np.dtype([(\"qint16\", np.int16, 1)])\n",
      "C:\\Users\\Asus\\Anaconda3\\lib\\site-packages\\tensorboard\\compat\\tensorflow_stub\\dtypes.py:544: FutureWarning: Passing (type, 1) or '1type' as a synonym of type is deprecated; in a future version of numpy, it will be understood as (type, (1,)) / '(1,)type'.\n",
      "  _np_quint16 = np.dtype([(\"quint16\", np.uint16, 1)])\n",
      "C:\\Users\\Asus\\Anaconda3\\lib\\site-packages\\tensorboard\\compat\\tensorflow_stub\\dtypes.py:545: FutureWarning: Passing (type, 1) or '1type' as a synonym of type is deprecated; in a future version of numpy, it will be understood as (type, (1,)) / '(1,)type'.\n",
      "  _np_qint32 = np.dtype([(\"qint32\", np.int32, 1)])\n",
      "C:\\Users\\Asus\\Anaconda3\\lib\\site-packages\\tensorboard\\compat\\tensorflow_stub\\dtypes.py:550: FutureWarning: Passing (type, 1) or '1type' as a synonym of type is deprecated; in a future version of numpy, it will be understood as (type, (1,)) / '(1,)type'.\n",
      "  np_resource = np.dtype([(\"resource\", np.ubyte, 1)])\n"
     ]
    }
   ],
   "source": [
    "from sklearn.linear_model import LogisticRegression\n",
    "from sklearn.model_selection import train_test_split\n",
    "from sklearn.model_selection import cross_val_score\n",
    "from sklearn import metrics\n",
    "from sklearn import preprocessing\n",
    "from sklearn.ensemble import RandomForestClassifier, GradientBoostingClassifier\n",
    "from imblearn.datasets import make_imbalance\n",
    "from imblearn.under_sampling import NearMiss\n",
    "from imblearn.pipeline import make_pipeline\n",
    "from imblearn.metrics import classification_report_imbalanced\n",
    "from imblearn.over_sampling import SMOTE"
   ]
  },
  {
   "cell_type": "code",
   "execution_count": 18,
   "metadata": {},
   "outputs": [],
   "source": [
    "X_scaled_model_train =  preprocessing.scale(X_model_train)\n",
    "X_scaled_oot_test = preprocessing.scale(X_oot_test)"
   ]
  },
  {
   "cell_type": "code",
   "execution_count": 19,
   "metadata": {},
   "outputs": [
    {
     "name": "stdout",
     "output_type": "stream",
     "text": [
      "(598978, 47) (256991, 47)\n"
     ]
    }
   ],
   "source": [
    "print(X_scaled_model_train.shape, X_scaled_oot_test.shape)"
   ]
  },
  {
   "cell_type": "code",
   "execution_count": null,
   "metadata": {},
   "outputs": [],
   "source": [
    "def run_models(X_train, y_train, X_test, y_test, model_type = 'Non-balanced'):\n",
    "    \n",
    "    clfs = {'GradientBoosting': GradientBoostingClassifier(max_depth= 6, n_estimators=100, max_features = 0.3),\n",
    "            'LogisticRegression' : LogisticRegression(),\n",
    "            'RandomForestClassifier': RandomForestClassifier(n_estimators=10)\n",
    "            }\n",
    "    cols = ['model', 'roc_auc_score', 'precision_score', 'recall_score','f1_score']\n",
    "\n",
    "    models_report = pd.DataFrame(columns = cols)\n",
    "    conf_matrix = dict()\n",
    "\n",
    "    for clf, clf_name in zip(clfs.values(), clfs.keys()): #The zip() function returns an iterator of tuples based on the iterable object. If a single iterable is passed, zip() returns an iterator of 1-tuples. Meaning, the number of elements in each tuple is 1.\n",
    "\n",
    "        clf.fit(X_train, y_train)\n",
    "\n",
    "        y_pred = clf.predict(X_test)\n",
    "        y_score = clf.predict_proba(X_test)[:,1]\n",
    "\n",
    "        print('computing {} - {} '.format(clf_name, model_type))\n",
    "\n",
    "        tmp = pd.Series({'model_type': model_type,\n",
    "                         'model': clf_name,\n",
    "                         'roc_auc_score' : metrics.roc_auc_score(y_test, y_score),\n",
    "                         'precision_score': metrics.precision_score(y_test, y_pred),\n",
    "                         'recall_score': metrics.recall_score(y_test, y_pred),\n",
    "                         'f1_score': metrics.f1_score(y_test, y_pred)})\n",
    "\n",
    "        models_report = models_report.append(tmp, ignore_index = True)\n",
    "        conf_matrix[clf_name] = pd.crosstab(y_test, y_pred, rownames=['True'], colnames= ['Predicted'], margins=False)\n",
    "        fpr, tpr, thresholds = metrics.roc_curve(y_test, y_score, drop_intermediate = False, pos_label = 1)\n",
    "\n",
    "        plt.figure(1, figsize=(6,6))\n",
    "        plt.xlabel('false positive rate')\n",
    "        plt.ylabel('true positive rate')\n",
    "        plt.title('ROC curve - {}'.format(model_type))\n",
    "        plt.plot(fpr, tpr, label = clf_name )\n",
    "        plt.legend(loc=2, prop={'size':11})\n",
    "    plt.plot([0,1],[0,1], color = 'black')\n",
    "    \n",
    "    return models_report, conf_matrix"
   ]
  }
 ],
 "metadata": {
  "kernelspec": {
   "display_name": "Python 3",
   "language": "python",
   "name": "python3"
  },
  "language_info": {
   "codemirror_mode": {
    "name": "ipython",
    "version": 3
   },
   "file_extension": ".py",
   "mimetype": "text/x-python",
   "name": "python",
   "nbconvert_exporter": "python",
   "pygments_lexer": "ipython3",
   "version": "3.6.5"
  }
 },
 "nbformat": 4,
 "nbformat_minor": 2
}
